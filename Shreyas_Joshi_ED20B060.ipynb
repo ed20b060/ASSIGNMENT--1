{
  "nbformat": 4,
  "nbformat_minor": 0,
  "metadata": {
    "colab": {
      "name": "Shreyas Joshi_ED20B060.ipynb",
      "provenance": [],
      "collapsed_sections": []
    },
    "kernelspec": {
      "name": "python3",
      "display_name": "Python 3"
    },
    "language_info": {
      "name": "python"
    }
  },
  "cells": [
    {
      "cell_type": "code",
      "metadata": {
        "colab": {
          "base_uri": "https://localhost:8080/"
        },
        "id": "LYHdkr6P0UgV",
        "outputId": "d356584b-8b88-4b5a-d540-6456600a9a53"
      },
      "source": [
        "#Question 1\n",
        "import numpy as np\n",
        "import math\n",
        "n=100\n",
        "y_hat=np.random.rand(n)#Initializing the y_cap vector\n",
        "y=np.random.randint(0,2,(n))#intializing the y vector\n",
        "print(\"y=\",y)\n",
        "print(\"y_hat=\",y_hat)\n",
        "\n",
        "sum=0\n",
        "#Loop to find the sum of the given equation\n",
        "for i in range(n):\n",
        "  sum=sum+y[i]*math.log(y_hat[i],(2))+(1-y[i])*math.log(1-y_hat[i],(2))\n",
        "\n",
        "O=-(sum)/n #Initializing O\n",
        "print(\"O=\",O);"
      ],
      "execution_count": null,
      "outputs": [
        {
          "output_type": "stream",
          "text": [
            "y= [1 0 1 1 0 0 1 0 0 1 0 0 1 1 0 1 1 0 0 1 1 0 1 0 0 1 0 0 0 1 0 1 0 1 1 1 0\n",
            " 1 0 1 1 1 1 0 1 0 1 0 0 0 0 0 0 1 1 0 0 1 1 1 0 1 0 1 0 1 1 1 0 1 0 0 0 0\n",
            " 0 0 0 1 1 0 0 0 1 0 1 1 0 1 1 0 1 0 1 0 0 1 1 0 0 0]\n",
            "y_hat= [0.70586685 0.54768141 0.91619772 0.46328037 0.34546068 0.87586971\n",
            " 0.06420055 0.10117824 0.04761728 0.31175359 0.3084722  0.94507975\n",
            " 0.32386142 0.33371126 0.54182298 0.54568456 0.67680551 0.80476422\n",
            " 0.87357185 0.02448261 0.86763105 0.72273653 0.61130441 0.42588243\n",
            " 0.01728851 0.83856992 0.37133637 0.40973531 0.0505935  0.57485715\n",
            " 0.99987819 0.510651   0.35297936 0.44461487 0.06713865 0.61652515\n",
            " 0.3611792  0.74460337 0.08281121 0.49261963 0.50151733 0.21321711\n",
            " 0.96523251 0.71743517 0.68146525 0.27436594 0.9176495  0.62181972\n",
            " 0.43005105 0.20948528 0.45134332 0.98951628 0.61983815 0.09373639\n",
            " 0.96076689 0.46421717 0.60837078 0.89019597 0.33363005 0.05111227\n",
            " 0.90040423 0.51751685 0.88150476 0.285726   0.83055925 0.43407167\n",
            " 0.70440745 0.02532334 0.63739119 0.5947838  0.67668737 0.07680043\n",
            " 0.8807596  0.18611062 0.42451698 0.1157777  0.70406333 0.75878231\n",
            " 0.90022608 0.70094086 0.38982391 0.08265017 0.40405539 0.22351182\n",
            " 0.41586985 0.26173396 0.76795317 0.62935525 0.61314404 0.12148689\n",
            " 0.3676314  0.31674992 0.88259559 0.82257728 0.48978432 0.9227517\n",
            " 0.50280794 0.00171793 0.5297689  0.09759679]\n",
            "O= 1.4013011190730063\n"
          ],
          "name": "stdout"
        }
      ]
    },
    {
      "cell_type": "code",
      "metadata": {
        "id": "EBYv_cUS8OpW",
        "colab": {
          "base_uri": "https://localhost:8080/"
        },
        "outputId": "c9a8b4ef-0593-45b6-b066-b0f8ffc8897c"
      },
      "source": [
        "#Question 2\n",
        "class Sum:\n",
        "  arr=[]\n",
        "  target=0\n",
        "  n=0\n",
        "  d={}\n",
        "  def input(self):\n",
        "   self.n1=int(input(\"Enter number of elements in the array=\"))\n",
        "   for i in range(self.n1):\n",
        "     self.arr.append(float(input(\"Enter a number=\")))\n",
        "   \n",
        "   self.target=float(input(\"Enter the target value=\"))\n",
        "   \n",
        "\n",
        "  def output(self):\n",
        "   key=1\n",
        "   for i in range(self.n1):\n",
        "     for j in range(self.n1):\n",
        "      if(self.arr[i]+self.arr[j]==self.target):\n",
        "          self.d[key]=[i, j]\n",
        "          key=key+1\n",
        "         \n",
        "   print(\"Dictionary=\",self.d)\n",
        "\n",
        "c1=Sum()\n",
        "c1.input()\n",
        "c1.output()\n",
        "         \n",
        "\n"
      ],
      "execution_count": null,
      "outputs": [
        {
          "output_type": "stream",
          "text": [
            "Enter number of elements in the array=7\n",
            "Enter a number=4\n",
            "Enter a number=10\n",
            "Enter a number=6\n",
            "Enter a number=14\n",
            "Enter a number=18\n",
            "Enter a number=19\n",
            "Enter a number=20\n",
            "Enter the target value=20\n",
            "Dictionary= {1: [1, 1], 2: [2, 3], 3: [3, 2]}\n"
          ],
          "name": "stdout"
        }
      ]
    }
  ]
}